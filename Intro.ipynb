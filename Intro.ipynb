{
 "cells": [
  {
   "cell_type": "code",
   "execution_count": 28,
   "metadata": {},
   "outputs": [],
   "source": [
    "import statsmodels.api as sm \n",
    "import plotly.express as px\n",
    "import plotly.graph_objects as go\n",
    "# Cross Sectional Data\n",
    "# Order of Data doesn't matter\n",
    "cars = sm.datasets.get_rdataset(\"cars\",\"datasets\")\n",
    "#cars.data.head(2)\n",
    "# Time Series Data\n",
    "money = sm.datasets.get_rdataset(\"Money\",\"Ecdat\")\n",
    "#money.data.head(2)\n",
    "# Panel Data\n",
    "# Here in the data is a cross-sectional Data and is also a time-series data\n",
    "grunfeld = sm.datasets.get_rdataset(\"Grunfeld\", \"plm\")\n",
    "#print(grunfeld.data.head(2))"
   ]
  },
  {
   "cell_type": "code",
   "execution_count": 22,
   "metadata": {},
   "outputs": [],
   "source": [
    "import numpy as np\n",
    "import pandas as pd\n",
    "beta_0 = 1\n",
    "beta_1 = 2\n",
    "N = 50\n",
    "x = np.random.normal(loc=0,scale=5,size=N)\n",
    "eps = np.random.normal(loc=0,scale=1,size=len(x))\n",
    "y = beta_0 + beta_1 + x + eps\n",
    "y_ce = beta_0+beta_1*x\n",
    "DF = pd.DataFrame({'y_ce':y_ce,'y':y,'x':x})"
   ]
  },
  {
   "cell_type": "code",
   "execution_count": 37,
   "metadata": {},
   "outputs": [
    {
     "output_type": "display_data",
     "data": {
      "application/vnd.plotly.v1+json": {
       "config": {
        "plotlyServerURL": "https://plot.ly"
       },
       "data": [
        {
         "mode": "markers",
         "name": "x",
         "type": "scatter",
         "x": [
          4.375708162961283,
          -6.200417529920077,
          2.748532484126109,
          0.16206518776428147,
          -1.8849935958452322,
          -3.869391153293175,
          -4.3108570408665825,
          2.197047757721285,
          -3.0913846632024184,
          5.140369069124188,
          7.471667361318978,
          1.0438229447423495,
          -0.49783232678933353,
          3.2760085472477263,
          -2.321683541143863,
          3.182357144041929,
          -2.7608017280112556,
          -4.965121175382606,
          -8.939197067361208,
          -9.112178415012863,
          1.777845202574507,
          2.9856744493027487,
          3.771144001200364,
          8.198194051275987,
          2.064962841020835,
          -9.995035365032527,
          -6.653142032738418,
          -3.985952952273419,
          -2.167347112055676,
          -3.8268427506346896,
          4.767031810339874,
          -6.521721288450996,
          6.495983018989668,
          -1.6607358433176347,
          -1.120597126268079,
          6.07266906024029,
          -1.7623255604845545,
          2.7923064604425947,
          5.515837495930905,
          6.508892325362875,
          -8.111714637121484,
          1.4904042515821856,
          0.956928909183989,
          -3.353108141223817,
          -7.4780704931703905,
          3.2313030175479343,
          -2.2724192112500425,
          3.5945204844122247,
          1.8073939656634646,
          15.552423400953362
         ],
         "y": [
          7.091109499157606,
          -3.2740332001080166,
          5.477751145830739,
          3.838159354462143,
          1.1226229145586482,
          -0.7268531216356628,
          -1.6637284190796073,
          5.306816631987772,
          -0.3797415559251846,
          7.324774517711031,
          10.903103327926633,
          6.627957489523215,
          1.8027426667003152,
          7.97133294615465,
          0.48213431168864096,
          5.522710014376069,
          -0.4525868505617382,
          -1.6536577456639212,
          -5.742288998048945,
          -6.502783850121254,
          4.3360217500736375,
          6.567801955816352,
          5.532173743088294,
          12.482938233303646,
          5.291673709744693,
          -6.057669710922903,
          -3.1793760465005416,
          -1.3167450698151195,
          1.6582267666140789,
          -0.9450948113036766,
          6.652590262888799,
          -4.263564472349058,
          9.42106829440236,
          1.2600420246386506,
          1.4073451264701946,
          8.88471018483855,
          1.3876464475768144,
          6.561242050909035,
          6.628753412814886,
          9.118876479893412,
          -5.565703702464373,
          4.156128629305003,
          4.075629783151478,
          1.9586277461165227,
          -3.299926569058975,
          6.355933475799528,
          1.2701301043284228,
          5.6002853229637575,
          4.233665993184037,
          18.37298446687303
         ]
        },
        {
         "mode": "lines",
         "name": "x_c",
         "type": "scatter",
         "x": [
          4.375708162961283,
          -6.200417529920077,
          2.748532484126109,
          0.16206518776428147,
          -1.8849935958452322,
          -3.869391153293175,
          -4.3108570408665825,
          2.197047757721285,
          -3.0913846632024184,
          5.140369069124188,
          7.471667361318978,
          1.0438229447423495,
          -0.49783232678933353,
          3.2760085472477263,
          -2.321683541143863,
          3.182357144041929,
          -2.7608017280112556,
          -4.965121175382606,
          -8.939197067361208,
          -9.112178415012863,
          1.777845202574507,
          2.9856744493027487,
          3.771144001200364,
          8.198194051275987,
          2.064962841020835,
          -9.995035365032527,
          -6.653142032738418,
          -3.985952952273419,
          -2.167347112055676,
          -3.8268427506346896,
          4.767031810339874,
          -6.521721288450996,
          6.495983018989668,
          -1.6607358433176347,
          -1.120597126268079,
          6.07266906024029,
          -1.7623255604845545,
          2.7923064604425947,
          5.515837495930905,
          6.508892325362875,
          -8.111714637121484,
          1.4904042515821856,
          0.956928909183989,
          -3.353108141223817,
          -7.4780704931703905,
          3.2313030175479343,
          -2.2724192112500425,
          3.5945204844122247,
          1.8073939656634646,
          15.552423400953362
         ],
         "y": [
          9.751416325922566,
          -11.400835059840155,
          6.497064968252218,
          1.324130375528563,
          -2.7699871916904644,
          -6.73878230658635,
          -7.621714081733165,
          5.39409551544257,
          -5.182769326404837,
          11.280738138248376,
          15.943334722637957,
          3.087645889484699,
          0.004335346421332931,
          7.5520170944954526,
          -3.6433670822877264,
          7.364714288083858,
          -4.521603456022511,
          -8.930242350765212,
          -16.878394134722416,
          -17.224356830025727,
          4.555690405149014,
          6.9713488986054974,
          8.542288002400728,
          17.396388102551974,
          5.12992568204167,
          -18.990070730065053,
          -12.306284065476836,
          -6.971905904546838,
          -3.3346942241113524,
          -6.653685501269379,
          10.534063620679747,
          -12.043442576901992,
          13.991966037979337,
          -2.3214716866352694,
          -1.241194252536158,
          13.14533812048058,
          -2.524651120969109,
          6.584612920885189,
          12.03167499186181,
          14.01778465072575,
          -15.223429274242967,
          3.980808503164371,
          2.913857818367978,
          -5.706216282447634,
          -13.956140986340781,
          7.4626060350958685,
          -3.544838422500085,
          8.18904096882445,
          4.614787931326929,
          32.104846801906724
         ]
        }
       ],
       "layout": {
        "template": {
         "data": {
          "bar": [
           {
            "error_x": {
             "color": "#2a3f5f"
            },
            "error_y": {
             "color": "#2a3f5f"
            },
            "marker": {
             "line": {
              "color": "#E5ECF6",
              "width": 0.5
             }
            },
            "type": "bar"
           }
          ],
          "barpolar": [
           {
            "marker": {
             "line": {
              "color": "#E5ECF6",
              "width": 0.5
             }
            },
            "type": "barpolar"
           }
          ],
          "carpet": [
           {
            "aaxis": {
             "endlinecolor": "#2a3f5f",
             "gridcolor": "white",
             "linecolor": "white",
             "minorgridcolor": "white",
             "startlinecolor": "#2a3f5f"
            },
            "baxis": {
             "endlinecolor": "#2a3f5f",
             "gridcolor": "white",
             "linecolor": "white",
             "minorgridcolor": "white",
             "startlinecolor": "#2a3f5f"
            },
            "type": "carpet"
           }
          ],
          "choropleth": [
           {
            "colorbar": {
             "outlinewidth": 0,
             "ticks": ""
            },
            "type": "choropleth"
           }
          ],
          "contour": [
           {
            "colorbar": {
             "outlinewidth": 0,
             "ticks": ""
            },
            "colorscale": [
             [
              0,
              "#0d0887"
             ],
             [
              0.1111111111111111,
              "#46039f"
             ],
             [
              0.2222222222222222,
              "#7201a8"
             ],
             [
              0.3333333333333333,
              "#9c179e"
             ],
             [
              0.4444444444444444,
              "#bd3786"
             ],
             [
              0.5555555555555556,
              "#d8576b"
             ],
             [
              0.6666666666666666,
              "#ed7953"
             ],
             [
              0.7777777777777778,
              "#fb9f3a"
             ],
             [
              0.8888888888888888,
              "#fdca26"
             ],
             [
              1,
              "#f0f921"
             ]
            ],
            "type": "contour"
           }
          ],
          "contourcarpet": [
           {
            "colorbar": {
             "outlinewidth": 0,
             "ticks": ""
            },
            "type": "contourcarpet"
           }
          ],
          "heatmap": [
           {
            "colorbar": {
             "outlinewidth": 0,
             "ticks": ""
            },
            "colorscale": [
             [
              0,
              "#0d0887"
             ],
             [
              0.1111111111111111,
              "#46039f"
             ],
             [
              0.2222222222222222,
              "#7201a8"
             ],
             [
              0.3333333333333333,
              "#9c179e"
             ],
             [
              0.4444444444444444,
              "#bd3786"
             ],
             [
              0.5555555555555556,
              "#d8576b"
             ],
             [
              0.6666666666666666,
              "#ed7953"
             ],
             [
              0.7777777777777778,
              "#fb9f3a"
             ],
             [
              0.8888888888888888,
              "#fdca26"
             ],
             [
              1,
              "#f0f921"
             ]
            ],
            "type": "heatmap"
           }
          ],
          "heatmapgl": [
           {
            "colorbar": {
             "outlinewidth": 0,
             "ticks": ""
            },
            "colorscale": [
             [
              0,
              "#0d0887"
             ],
             [
              0.1111111111111111,
              "#46039f"
             ],
             [
              0.2222222222222222,
              "#7201a8"
             ],
             [
              0.3333333333333333,
              "#9c179e"
             ],
             [
              0.4444444444444444,
              "#bd3786"
             ],
             [
              0.5555555555555556,
              "#d8576b"
             ],
             [
              0.6666666666666666,
              "#ed7953"
             ],
             [
              0.7777777777777778,
              "#fb9f3a"
             ],
             [
              0.8888888888888888,
              "#fdca26"
             ],
             [
              1,
              "#f0f921"
             ]
            ],
            "type": "heatmapgl"
           }
          ],
          "histogram": [
           {
            "marker": {
             "colorbar": {
              "outlinewidth": 0,
              "ticks": ""
             }
            },
            "type": "histogram"
           }
          ],
          "histogram2d": [
           {
            "colorbar": {
             "outlinewidth": 0,
             "ticks": ""
            },
            "colorscale": [
             [
              0,
              "#0d0887"
             ],
             [
              0.1111111111111111,
              "#46039f"
             ],
             [
              0.2222222222222222,
              "#7201a8"
             ],
             [
              0.3333333333333333,
              "#9c179e"
             ],
             [
              0.4444444444444444,
              "#bd3786"
             ],
             [
              0.5555555555555556,
              "#d8576b"
             ],
             [
              0.6666666666666666,
              "#ed7953"
             ],
             [
              0.7777777777777778,
              "#fb9f3a"
             ],
             [
              0.8888888888888888,
              "#fdca26"
             ],
             [
              1,
              "#f0f921"
             ]
            ],
            "type": "histogram2d"
           }
          ],
          "histogram2dcontour": [
           {
            "colorbar": {
             "outlinewidth": 0,
             "ticks": ""
            },
            "colorscale": [
             [
              0,
              "#0d0887"
             ],
             [
              0.1111111111111111,
              "#46039f"
             ],
             [
              0.2222222222222222,
              "#7201a8"
             ],
             [
              0.3333333333333333,
              "#9c179e"
             ],
             [
              0.4444444444444444,
              "#bd3786"
             ],
             [
              0.5555555555555556,
              "#d8576b"
             ],
             [
              0.6666666666666666,
              "#ed7953"
             ],
             [
              0.7777777777777778,
              "#fb9f3a"
             ],
             [
              0.8888888888888888,
              "#fdca26"
             ],
             [
              1,
              "#f0f921"
             ]
            ],
            "type": "histogram2dcontour"
           }
          ],
          "mesh3d": [
           {
            "colorbar": {
             "outlinewidth": 0,
             "ticks": ""
            },
            "type": "mesh3d"
           }
          ],
          "parcoords": [
           {
            "line": {
             "colorbar": {
              "outlinewidth": 0,
              "ticks": ""
             }
            },
            "type": "parcoords"
           }
          ],
          "pie": [
           {
            "automargin": true,
            "type": "pie"
           }
          ],
          "scatter": [
           {
            "marker": {
             "colorbar": {
              "outlinewidth": 0,
              "ticks": ""
             }
            },
            "type": "scatter"
           }
          ],
          "scatter3d": [
           {
            "line": {
             "colorbar": {
              "outlinewidth": 0,
              "ticks": ""
             }
            },
            "marker": {
             "colorbar": {
              "outlinewidth": 0,
              "ticks": ""
             }
            },
            "type": "scatter3d"
           }
          ],
          "scattercarpet": [
           {
            "marker": {
             "colorbar": {
              "outlinewidth": 0,
              "ticks": ""
             }
            },
            "type": "scattercarpet"
           }
          ],
          "scattergeo": [
           {
            "marker": {
             "colorbar": {
              "outlinewidth": 0,
              "ticks": ""
             }
            },
            "type": "scattergeo"
           }
          ],
          "scattergl": [
           {
            "marker": {
             "colorbar": {
              "outlinewidth": 0,
              "ticks": ""
             }
            },
            "type": "scattergl"
           }
          ],
          "scattermapbox": [
           {
            "marker": {
             "colorbar": {
              "outlinewidth": 0,
              "ticks": ""
             }
            },
            "type": "scattermapbox"
           }
          ],
          "scatterpolar": [
           {
            "marker": {
             "colorbar": {
              "outlinewidth": 0,
              "ticks": ""
             }
            },
            "type": "scatterpolar"
           }
          ],
          "scatterpolargl": [
           {
            "marker": {
             "colorbar": {
              "outlinewidth": 0,
              "ticks": ""
             }
            },
            "type": "scatterpolargl"
           }
          ],
          "scatterternary": [
           {
            "marker": {
             "colorbar": {
              "outlinewidth": 0,
              "ticks": ""
             }
            },
            "type": "scatterternary"
           }
          ],
          "surface": [
           {
            "colorbar": {
             "outlinewidth": 0,
             "ticks": ""
            },
            "colorscale": [
             [
              0,
              "#0d0887"
             ],
             [
              0.1111111111111111,
              "#46039f"
             ],
             [
              0.2222222222222222,
              "#7201a8"
             ],
             [
              0.3333333333333333,
              "#9c179e"
             ],
             [
              0.4444444444444444,
              "#bd3786"
             ],
             [
              0.5555555555555556,
              "#d8576b"
             ],
             [
              0.6666666666666666,
              "#ed7953"
             ],
             [
              0.7777777777777778,
              "#fb9f3a"
             ],
             [
              0.8888888888888888,
              "#fdca26"
             ],
             [
              1,
              "#f0f921"
             ]
            ],
            "type": "surface"
           }
          ],
          "table": [
           {
            "cells": {
             "fill": {
              "color": "#EBF0F8"
             },
             "line": {
              "color": "white"
             }
            },
            "header": {
             "fill": {
              "color": "#C8D4E3"
             },
             "line": {
              "color": "white"
             }
            },
            "type": "table"
           }
          ]
         },
         "layout": {
          "annotationdefaults": {
           "arrowcolor": "#2a3f5f",
           "arrowhead": 0,
           "arrowwidth": 1
          },
          "coloraxis": {
           "colorbar": {
            "outlinewidth": 0,
            "ticks": ""
           }
          },
          "colorscale": {
           "diverging": [
            [
             0,
             "#8e0152"
            ],
            [
             0.1,
             "#c51b7d"
            ],
            [
             0.2,
             "#de77ae"
            ],
            [
             0.3,
             "#f1b6da"
            ],
            [
             0.4,
             "#fde0ef"
            ],
            [
             0.5,
             "#f7f7f7"
            ],
            [
             0.6,
             "#e6f5d0"
            ],
            [
             0.7,
             "#b8e186"
            ],
            [
             0.8,
             "#7fbc41"
            ],
            [
             0.9,
             "#4d9221"
            ],
            [
             1,
             "#276419"
            ]
           ],
           "sequential": [
            [
             0,
             "#0d0887"
            ],
            [
             0.1111111111111111,
             "#46039f"
            ],
            [
             0.2222222222222222,
             "#7201a8"
            ],
            [
             0.3333333333333333,
             "#9c179e"
            ],
            [
             0.4444444444444444,
             "#bd3786"
            ],
            [
             0.5555555555555556,
             "#d8576b"
            ],
            [
             0.6666666666666666,
             "#ed7953"
            ],
            [
             0.7777777777777778,
             "#fb9f3a"
            ],
            [
             0.8888888888888888,
             "#fdca26"
            ],
            [
             1,
             "#f0f921"
            ]
           ],
           "sequentialminus": [
            [
             0,
             "#0d0887"
            ],
            [
             0.1111111111111111,
             "#46039f"
            ],
            [
             0.2222222222222222,
             "#7201a8"
            ],
            [
             0.3333333333333333,
             "#9c179e"
            ],
            [
             0.4444444444444444,
             "#bd3786"
            ],
            [
             0.5555555555555556,
             "#d8576b"
            ],
            [
             0.6666666666666666,
             "#ed7953"
            ],
            [
             0.7777777777777778,
             "#fb9f3a"
            ],
            [
             0.8888888888888888,
             "#fdca26"
            ],
            [
             1,
             "#f0f921"
            ]
           ]
          },
          "colorway": [
           "#636efa",
           "#EF553B",
           "#00cc96",
           "#ab63fa",
           "#FFA15A",
           "#19d3f3",
           "#FF6692",
           "#B6E880",
           "#FF97FF",
           "#FECB52"
          ],
          "font": {
           "color": "#2a3f5f"
          },
          "geo": {
           "bgcolor": "white",
           "lakecolor": "white",
           "landcolor": "#E5ECF6",
           "showlakes": true,
           "showland": true,
           "subunitcolor": "white"
          },
          "hoverlabel": {
           "align": "left"
          },
          "hovermode": "closest",
          "mapbox": {
           "style": "light"
          },
          "paper_bgcolor": "white",
          "plot_bgcolor": "#E5ECF6",
          "polar": {
           "angularaxis": {
            "gridcolor": "white",
            "linecolor": "white",
            "ticks": ""
           },
           "bgcolor": "#E5ECF6",
           "radialaxis": {
            "gridcolor": "white",
            "linecolor": "white",
            "ticks": ""
           }
          },
          "scene": {
           "xaxis": {
            "backgroundcolor": "#E5ECF6",
            "gridcolor": "white",
            "gridwidth": 2,
            "linecolor": "white",
            "showbackground": true,
            "ticks": "",
            "zerolinecolor": "white"
           },
           "yaxis": {
            "backgroundcolor": "#E5ECF6",
            "gridcolor": "white",
            "gridwidth": 2,
            "linecolor": "white",
            "showbackground": true,
            "ticks": "",
            "zerolinecolor": "white"
           },
           "zaxis": {
            "backgroundcolor": "#E5ECF6",
            "gridcolor": "white",
            "gridwidth": 2,
            "linecolor": "white",
            "showbackground": true,
            "ticks": "",
            "zerolinecolor": "white"
           }
          },
          "shapedefaults": {
           "line": {
            "color": "#2a3f5f"
           }
          },
          "ternary": {
           "aaxis": {
            "gridcolor": "white",
            "linecolor": "white",
            "ticks": ""
           },
           "baxis": {
            "gridcolor": "white",
            "linecolor": "white",
            "ticks": ""
           },
           "bgcolor": "#E5ECF6",
           "caxis": {
            "gridcolor": "white",
            "linecolor": "white",
            "ticks": ""
           }
          },
          "title": {
           "x": 0.05
          },
          "xaxis": {
           "automargin": true,
           "gridcolor": "white",
           "linecolor": "white",
           "ticks": "",
           "title": {
            "standoff": 15
           },
           "zerolinecolor": "white",
           "zerolinewidth": 2
          },
          "yaxis": {
           "automargin": true,
           "gridcolor": "white",
           "linecolor": "white",
           "ticks": "",
           "title": {
            "standoff": 15
           },
           "zerolinecolor": "white",
           "zerolinewidth": 2
          }
         }
        }
       }
      }
     },
     "metadata": {}
    }
   ],
   "source": [
    "fig = go.Figure()\n",
    "fig.add_trace(go.Scatter(x=x,y=y, mode='markers',name='x'))\n",
    "fig.add_trace(go.Scatter(x=x,y=y_ce,mode='lines',name='x_c')) "
   ]
  }
 ],
 "metadata": {
  "language_info": {
   "codemirror_mode": {
    "name": "ipython",
    "version": 3
   },
   "file_extension": ".py",
   "mimetype": "text/x-python",
   "name": "python",
   "nbconvert_exporter": "python",
   "pygments_lexer": "ipython3",
   "version": "3.8.2-final"
  },
  "orig_nbformat": 2,
  "kernelspec": {
   "name": "python38264bit403978f128a145739fd5582c255bb442",
   "display_name": "Python 3.8.2 64-bit"
  }
 },
 "nbformat": 4,
 "nbformat_minor": 2
}